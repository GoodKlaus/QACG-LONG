{
 "cells": [
  {
   "cell_type": "code",
   "execution_count": 1,
   "id": "c1b73184",
   "metadata": {},
   "outputs": [
    {
     "name": "stderr",
     "output_type": "stream",
     "text": [
      "/home/haoyu/.local/lib/python3.8/site-packages/tqdm/auto.py:22: TqdmWarning: IProgress not found. Please update jupyter and ipywidgets. See https://ipywidgets.readthedocs.io/en/stable/user_install.html\n",
      "  from .autonotebook import tqdm as notebook_tqdm\n",
      "/usr/lib/python3/dist-packages/requests/__init__.py:89: RequestsDependencyWarning: urllib3 (1.26.11) or chardet (3.0.4) doesn't match a supported version!\n",
      "  warnings.warn(\"urllib3 ({}) or chardet ({}) doesn't match a supported \"\n",
      "11/25/2022 09:12:37 - INFO - numexpr.utils -   Note: detected 128 virtual cores but NumExpr set to maximum of 64, check \"NUMEXPR_MAX_THREADS\" environment variable.\n",
      "11/25/2022 09:12:37 - INFO - numexpr.utils -   Note: NumExpr detected 128 cores but \"NUMEXPR_MAX_THREADS\" not set, so enforcing safe limit of 8.\n",
      "11/25/2022 09:12:37 - INFO - numexpr.utils -   NumExpr defaulting to 8 threads.\n"
     ]
    }
   ],
   "source": [
    "from util.train_helper import *\n",
    "from util.tokenization import *\n",
    "from util.processor import *\n",
    "import inspect\n",
    "\n",
    "from util.args_parser import parser\n",
    "import matplotlib.pyplot as plt\n",
    "import seaborn as sns"
   ]
  },
  {
   "cell_type": "code",
   "execution_count": 2,
   "id": "2f7494a2",
   "metadata": {},
   "outputs": [],
   "source": [
    "def run(args):\n",
    "\n",
    "    device, n_gpu, output_log_file= system_setups(args)\n",
    "\n",
    "    # data loader, we load the model and corresponding training and testing sets\n",
    "    model, optimizer, train_dataloader, test_dataloader = \\\n",
    "        data_and_model_loader(device, n_gpu, args)\n",
    "\n",
    "    # TODO: add a argument about it\n",
    "    if False:\n",
    "        # we will first evaluate the just pretrain BERT model\n",
    "        logger.info(\"***** Evaluation Plain BERT Pretrain Model *****\")\n",
    "        _ = evaluate_fast(test_dataloader, model, device, n_gpu, args)\n",
    "\n",
    "    # main training step    \n",
    "    global_step = 0\n",
    "    global_best_acc = -1\n",
    "    epoch=0\n",
    "    evaluate_interval = args.evaluate_interval\n",
    "    # training epoch to eval\n",
    "    for _ in trange(int(args.num_train_epochs), desc=\"Epoch\"):\n",
    "        # train a teacher model solving this task\n",
    "        global_step, global_best_acc = \\\n",
    "            step_train(train_dataloader, test_dataloader, model, optimizer, \n",
    "                        device, n_gpu, evaluate_interval, global_step, \n",
    "                        output_log_file, epoch, global_best_acc, args)\n",
    "        epoch += 1\n",
    "\n",
    "    logger.info(\"***** Global best performance *****\")\n",
    "    logger.info(\"accuracy on dev set: \" + str(global_best_acc))"
   ]
  },
  {
   "cell_type": "markdown",
   "id": "220bad4a",
   "metadata": {},
   "source": [
    "# PerSent V1"
   ]
  },
  {
   "cell_type": "markdown",
   "id": "20adff83",
   "metadata": {},
   "source": [
    "## QACG-BERT"
   ]
  },
  {
   "cell_type": "code",
   "execution_count": null,
   "id": "8d6c3ab7",
   "metadata": {},
   "outputs": [],
   "source": [
    "args_init1 = ['--task_name', 'persentv1_para', \n",
    "             '--data_dir', '../datasets/persent/',\n",
    "             '--output_dir', '../results/persent_annotated/QACGLONG-reproduce1/',\n",
    "             '--model_type', 'QACGBERT',\n",
    "             '--do_lower_case',\n",
    "             '--max_seq_length', '128',\n",
    "             '--train_batch_size', '64',\n",
    "             '--eval_batch_size', '256',\n",
    "             '--learning_rate', '1e-4',\n",
    "             '--num_train_epochs', '30',\n",
    "             '--vocab_file', 'BERT-Google/vocab.txt',\n",
    "             '--bert_config_file', 'BERT-Google/config.json',\n",
    "             '--init_checkpoint', 'BERT-Google/pytorch_model.bin', \n",
    "             '--seed', '123',\n",
    "             '--evaluate_interval', '1']\n",
    "\n",
    "args1 = parser.parse_args(args_init1)\n",
    "run(args1)"
   ]
  },
  {
   "cell_type": "markdown",
   "id": "2d2e2e98",
   "metadata": {},
   "source": [
    "## Longformer"
   ]
  },
  {
   "cell_type": "code",
   "execution_count": null,
   "id": "dd2eb7d1",
   "metadata": {},
   "outputs": [],
   "source": [
    "args_init2 = ['--task_name', 'persentv1_longformer', \n",
    "             '--data_dir', '../datasets/persent/',\n",
    "             '--output_dir', '../results/persent_annotated/QACGLONG-reproduce2/',\n",
    "             '--model_type', 'LONG',\n",
    "             '--do_lower_case',\n",
    "             '--max_seq_length', '2048',\n",
    "             '--train_batch_size', '4',\n",
    "             '--eval_batch_size', '12',\n",
    "             '--learning_rate', '1e-4',\n",
    "             '--num_train_epochs', '30',\n",
    "             '--vocab_file', 'BERT-Google/vocab.txt',\n",
    "             '--seed', '123',\n",
    "             '--evaluate_interval', '1',\n",
    "             '--gradient_accumulation_steps', '8']\n",
    "\n",
    "args2 = parser.parse_args(args_init2)\n",
    "run(args2)"
   ]
  },
  {
   "cell_type": "markdown",
   "id": "f945acb8",
   "metadata": {},
   "source": [
    "## QACG-LONG"
   ]
  },
  {
   "cell_type": "code",
   "execution_count": null,
   "id": "d677af8b",
   "metadata": {},
   "outputs": [],
   "source": [
    "args_init3 = ['--task_name', 'persentv1', \n",
    "             '--data_dir', '../datasets/persent/',\n",
    "             '--output_dir', '../results/persent_annotated/QACGLONG-reproduce3/',\n",
    "             '--model_type', 'QACGLONG',\n",
    "             '--do_lower_case',\n",
    "             '--max_seq_length', '2048',\n",
    "             '--train_batch_size', '8',\n",
    "             '--eval_batch_size', '12',\n",
    "             '--learning_rate', '2e-5',\n",
    "             '--num_train_epochs', '30',\n",
    "             '--vocab_file', 'BERT-Google/vocab.txt',\n",
    "             '--bert_config_file', 'Longformer/config.json',\n",
    "             '--init_checkpoint', 'Longformer/pytorch_model.bin', \n",
    "             '--seed', '123',\n",
    "             '--evaluate_interval', '1',\n",
    "             '--gradient_accumulation_steps', '8']\n",
    "\n",
    "args3 = parser.parse_args(args_init3)\n",
    "run(args3)"
   ]
  },
  {
   "cell_type": "markdown",
   "id": "0af3444a",
   "metadata": {},
   "source": [
    "# PerSent V2"
   ]
  },
  {
   "cell_type": "markdown",
   "id": "3fb1e3c7",
   "metadata": {},
   "source": [
    "## QACG-BERT"
   ]
  },
  {
   "cell_type": "code",
   "execution_count": null,
   "id": "b7ab7ac2",
   "metadata": {},
   "outputs": [],
   "source": [
    "args_init4 = ['--task_name', 'persentv2_para', \n",
    "             '--data_dir', '../datasets/persent_annotated/',\n",
    "             '--output_dir', '../results/persent_annotated/QACGLONG-reproduce4/',\n",
    "             '--model_type', 'QACGBERT',\n",
    "             '--do_lower_case',\n",
    "             '--max_seq_length', '128',\n",
    "             '--train_batch_size', '64',\n",
    "             '--eval_batch_size', '256',\n",
    "             '--learning_rate', '1e-4',\n",
    "             '--num_train_epochs', '30',\n",
    "             '--vocab_file', 'BERT-Google/vocab.txt',\n",
    "             '--bert_config_file', 'BERT-Google/config.json',\n",
    "             '--init_checkpoint', 'BERT-Google/pytorch_model.bin', \n",
    "             '--seed', '123',\n",
    "             '--evaluate_interval', '1']\n",
    "\n",
    "args4 = parser.parse_args(args_init4)\n",
    "run(args4)"
   ]
  },
  {
   "cell_type": "markdown",
   "id": "b32715df",
   "metadata": {},
   "source": [
    "## Longformer"
   ]
  },
  {
   "cell_type": "code",
   "execution_count": null,
   "id": "c9656fcc",
   "metadata": {},
   "outputs": [],
   "source": [
    "args_init5 = ['--task_name', 'persentv2_longformer', \n",
    "             '--data_dir', '../datasets/persent_annotated/',\n",
    "             '--output_dir', '../results/persent_annotated/QACGLONG-reproduce5/',\n",
    "             '--model_type', 'LONG',\n",
    "             '--do_lower_case',\n",
    "             '--max_seq_length', '2048',\n",
    "             '--train_batch_size', '4',\n",
    "             '--eval_batch_size', '12',\n",
    "             '--learning_rate', '1e-4',\n",
    "             '--num_train_epochs', '30',\n",
    "             '--vocab_file', 'BERT-Google/vocab.txt',\n",
    "             '--seed', '123',\n",
    "             '--evaluate_interval', '1',\n",
    "             '--gradient_accumulation_steps', '8']\n",
    "\n",
    "args5 = parser.parse_args(args_init5)\n",
    "run(args5)"
   ]
  },
  {
   "cell_type": "markdown",
   "id": "cb9a5608",
   "metadata": {},
   "source": [
    "## QACG-LONG"
   ]
  },
  {
   "cell_type": "code",
   "execution_count": null,
   "id": "b73b1a65",
   "metadata": {},
   "outputs": [],
   "source": [
    "args_init6 = ['--task_name', 'persentv2', \n",
    "             '--data_dir', '../datasets/persent_annotated/',\n",
    "             '--output_dir', '../results/persent_annotated/QACGLONG-reproduce6/',\n",
    "             '--model_type', 'QACGLONG',\n",
    "             '--do_lower_case',\n",
    "             '--max_seq_length', '2048',\n",
    "             '--train_batch_size', '8',\n",
    "             '--eval_batch_size', '12',\n",
    "             '--learning_rate', '2e-5',\n",
    "             '--num_train_epochs', '30',\n",
    "             '--vocab_file', 'BERT-Google/vocab.txt',\n",
    "             '--bert_config_file', 'Longformer/config.json',\n",
    "             '--init_checkpoint', 'Longformer/pytorch_model.bin', \n",
    "             '--seed', '123',\n",
    "             '--evaluate_interval', '1',\n",
    "             '--gradient_accumulation_steps', '8']\n",
    "\n",
    "args6 = parser.parse_args(args_init6)\n",
    "run(args6)"
   ]
  }
 ],
 "metadata": {
  "kernelspec": {
   "display_name": "Python 3",
   "language": "python",
   "name": "python3"
  },
  "language_info": {
   "codemirror_mode": {
    "name": "ipython",
    "version": 3
   },
   "file_extension": ".py",
   "mimetype": "text/x-python",
   "name": "python",
   "nbconvert_exporter": "python",
   "pygments_lexer": "ipython3",
   "version": "3.8.5"
  }
 },
 "nbformat": 4,
 "nbformat_minor": 5
}
