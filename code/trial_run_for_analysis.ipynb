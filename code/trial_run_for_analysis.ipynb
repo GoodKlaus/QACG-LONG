{
 "cells": [
  {
   "cell_type": "code",
   "execution_count": 1,
   "id": "7073cc99",
   "metadata": {},
   "outputs": [
    {
     "name": "stderr",
     "output_type": "stream",
     "text": [
      "/home/haoyu/.local/lib/python3.8/site-packages/tqdm/auto.py:22: TqdmWarning: IProgress not found. Please update jupyter and ipywidgets. See https://ipywidgets.readthedocs.io/en/stable/user_install.html\n",
      "  from .autonotebook import tqdm as notebook_tqdm\n"
     ]
    }
   ],
   "source": [
    "import pickle\n",
    "import re\n",
    "import os\n",
    "\n",
    "import random\n",
    "import numpy as np\n",
    "import torch\n",
    "from random import shuffle\n",
    "import argparse\n",
    "import pickle\n",
    "\n",
    "import collections\n",
    "\n",
    "import torch\n",
    "import torch.nn as nn\n",
    "import torch.nn.functional as F\n",
    "import torch.optim as optim\n",
    "import pandas as pd\n",
    "import logging\n",
    "import matplotlib.pyplot as plt\n",
    "import seaborn as sns\n",
    "\n",
    "from util.args_parser import parser\n",
    "from model.QACGBERT import BertConfig\n",
    "from sklearn.metrics import f1_score, accuracy_score, roc_auc_score\n",
    "\n",
    "from torch.utils.data import DataLoader, TensorDataset\n",
    "from torch.utils.data.distributed import DistributedSampler\n",
    "from torch.utils.data.sampler import RandomSampler, SequentialSampler, WeightedRandomSampler\n",
    "from tqdm import tqdm, trange\n",
    "\n",
    "from util.optimization import BERTAdam\n",
    "from util.processor import (Sentihood_NLI_M_Processor,\n",
    "                            Semeval_NLI_M_Processor,\n",
    "                            Persent_Processor)\n",
    "\n",
    "from util.tokenization import *\n",
    "\n",
    "from util.evaluation import *\n",
    "\n",
    "from model.QACGLONG import *"
   ]
  },
  {
   "cell_type": "code",
   "execution_count": null,
   "id": "732cb2a5",
   "metadata": {},
   "outputs": [],
   "source": [
    "df1 = pd.read_csv('../datasets/persent/train_longformer_topic_nocopy.csv')\n",
    "df2 = pd.read_csv('../datasets/persent/dev_longformer_topic_nocopy.csv')\n",
    "df3 = pd.read_csv('../datasets/persent/random_test_longformer_topic_nocopy.csv')\n",
    "\n",
    "df = pd.concat([df1, df2, df3], ignore_index=True)\n",
    "df.tail()"
   ]
  },
  {
   "cell_type": "code",
   "execution_count": 8,
   "id": "21ace7eb",
   "metadata": {},
   "outputs": [],
   "source": [
    "df_new = df.groupby(by=['group', 'TRUE_SENTIMENT']).count()\n",
    "df_new.reset_index(inplace=True)\n",
    "df_new = df_new[['group', 'TRUE_SENTIMENT', 'DOCUMENT_INDEX']]\n",
    "df_new.columns = ['group', 'sentiment', 'count']"
   ]
  },
  {
   "cell_type": "code",
   "execution_count": 37,
   "id": "8735e936",
   "metadata": {},
   "outputs": [],
   "source": [
    "df_new2 = df.groupby(by=['group']).count()\n",
    "df_new2.reset_index(inplace=True)\n",
    "df_new2 = df_new2[['group', 'DOCUMENT_INDEX']]\n",
    "df_new2.columns = ['group', 'count']\n",
    "df_new2.sort_values(by=['count'], inplace=True)"
   ]
  },
  {
   "cell_type": "code",
   "execution_count": 42,
   "id": "be1cd94e",
   "metadata": {},
   "outputs": [
    {
     "data": {
      "image/png": "[encoded data removed]",
      "text/plain": [
       "<Figure size 648x360 with 1 Axes>"
      ]
     },
     "metadata": {},
     "output_type": "display_data"
    }
   ],
   "source": [
    "plt.figure(figsize=(9,5))\n",
    "sns.set_theme(style=\"whitegrid\")\n",
    "sns.barplot(x='group', y='count', data=df_new2)\n",
    "plt.show()"
   ]
  },
  {
   "cell_type": "code",
   "execution_count": 43,
   "id": "1a818cca",
   "metadata": {},
   "outputs": [
    {
     "data": {
      "image/png": "[encoded data removed]",
      "text/plain": [
       "<Figure size 720x360 with 1 Axes>"
      ]
     },
     "metadata": {},
     "output_type": "display_data"
    }
   ],
   "source": [
    "plt.figure(figsize=(10,5))\n",
    "sns.set_theme(style=\"whitegrid\")\n",
    "sns.barplot(x='group', y='count', data=df_new, hue='sentiment', order=list(df_new2.group))\n",
    "plt.show()"
   ]
  },
  {
   "cell_type": "markdown",
   "id": "2cddebe9",
   "metadata": {},
   "source": [
    "### Analysis of QACGLONG results"
   ]
  },
  {
   "cell_type": "code",
   "execution_count": 3,
   "id": "01e4d01f",
   "metadata": {},
   "outputs": [],
   "source": [
    "def process_log(data):\n",
    "    data.reset_index(inplace=True)\n",
    "    data.drop(['s_auc'], axis=1, inplace=True)\n",
    "    data.columns = ['epoch', 'global_step', 'loss', 't_loss', 't_acc', 'strict_acc', 'f1', 'auc', 's_acc', 's_auc']\n",
    "    data.drop(['loss', 'auc', 's_acc', 's_auc'], axis=1, inplace=True)\n",
    "    data.drop_duplicates(inplace=True)\n",
    "    return data"
   ]
  },
  {
   "cell_type": "code",
   "execution_count": 4,
   "id": "ab295c2b",
   "metadata": {},
   "outputs": [],
   "source": [
    "data1 = pd.read_csv('../results/persent/7aspects_lr_1e-4+allsamples/7aspects_lr_1e-4+allsamples_noerror_Pretrained_20epoch/log.txt', sep=\"\\t\")\n",
    "data1 = process_log(data1)\n",
    "\n",
    "# data2 = pd.read_csv('../results/persent/lr_1e-4+7000sample2/log.txt', sep=\"\\t\")\n",
    "# data2 = process_log(data2)\n",
    "\n",
    "# data3 = pd.read_csv('../results/persent/lr_1e-4+7000sample3/log.txt', sep=\"\\t\")\n",
    "# data3 = process_log(data3)\n",
    "\n",
    "# data4 = pd.read_csv('../results/persent/lr_1e-4+7000sample4/log.txt', sep=\"\\t\")\n",
    "# data4 = process_log(data4)\n",
    "\n",
    "# data5 = pd.read_csv('../results/persent/lr_1e-4+7000sample5/log.txt', sep=\"\\t\")\n",
    "# data5 = process_log(data5)"
   ]
  },
  {
   "cell_type": "code",
   "execution_count": 47,
   "id": "14bb2cce",
   "metadata": {},
   "outputs": [],
   "source": [
    "data = pd.concat([data1, data2, data3, data4, data5])"
   ]
  },
  {
   "cell_type": "code",
   "execution_count": 48,
   "id": "fbacbce4",
   "metadata": {},
   "outputs": [],
   "source": [
    "data.to_csv(\"result.csv\", index=False)"
   ]
  },
  {
   "cell_type": "code",
   "execution_count": 49,
   "id": "1cd45801",
   "metadata": {},
   "outputs": [],
   "source": [
    "df = pd.read_csv(\"../results/persent/lr_1e-4+7000sample.csv\")"
   ]
  },
  {
   "cell_type": "code",
   "execution_count": 5,
   "id": "08e85e85",
   "metadata": {},
   "outputs": [],
   "source": [
    "df = data1"
   ]
  },
  {
   "cell_type": "code",
   "execution_count": 6,
   "id": "d1b57401",
   "metadata": {},
   "outputs": [
    {
     "data": {
      "image/png": "[encoded data removed]",
      "text/plain": [
       "<Figure size 432x288 with 1 Axes>"
      ]
     },
     "metadata": {
      "needs_background": "light"
     },
     "output_type": "display_data"
    },
    {
     "name": "stdout",
     "output_type": "stream",
     "text": [
      "The best otained strict accuracy is 0.3039723661485319\n",
      "The best otained test accuracy is 0.8497409326424871\n"
     ]
    }
   ],
   "source": [
    "sns.lineplot(data=df, x=\"global_step\", y=\"strict_acc\", color=\"red\", label=\"strict accuracy\")\n",
    "sns.lineplot(data=df, x=\"global_step\", y=\"t_acc\", label=\"test accuracy\")\n",
    "plt.legend()\n",
    "plt.ylabel(\"\")\n",
    "plt.show()\n",
    "\n",
    "print(f'The best otained strict accuracy is {max(df.strict_acc)}')\n",
    "print(f'The best otained test accuracy is {max(df.t_acc)}')"
   ]
  },
  {
   "cell_type": "markdown",
   "id": "8f7d21f3",
   "metadata": {},
   "source": [
    "## 20 newsgroups trial"
   ]
  },
  {
   "cell_type": "code",
   "execution_count": 2,
   "id": "0c321677",
   "metadata": {},
   "outputs": [],
   "source": [
    "from sklearn.datasets import fetch_20newsgroups\n",
    "from sklearn.decomposition import TruncatedSVD\n",
    "from sklearn.feature_extraction.text import TfidfTransformer, TfidfVectorizer\n",
    "from sklearn.feature_extraction.text import HashingVectorizer, CountVectorizer\n",
    "from sklearn.metrics import accuracy_score, classification_report, confusion_matrix\n",
    "from sklearn.metrics import ConfusionMatrixDisplay\n",
    "\n",
    "\n",
    "from sklearn.pipeline import Pipeline, make_pipeline\n",
    "from sklearn.preprocessing import Normalizer\n",
    "\n",
    "from sklearn.linear_model import LogisticRegression\n",
    "from sklearn.naive_bayes import GaussianNB\n",
    "from transformers.file_utils import is_tf_available, is_torch_available, is_torch_tpu_available\n",
    "from transformers import LongformerTokenizerFast, LongformerForSequenceClassification, Trainer, TrainingArguments, LongformerConfig\n",
    "\n"
   ]
  },
  {
   "cell_type": "code",
   "execution_count": 3,
   "id": "8c2d1233",
   "metadata": {},
   "outputs": [],
   "source": [
    "data_train = fetch_20newsgroups(subset='train', shuffle=True)\n",
    "data_test = fetch_20newsgroups(subset='test', shuffle=True)\n"
   ]
  },
  {
   "cell_type": "code",
   "execution_count": 70,
   "id": "0386d158",
   "metadata": {},
   "outputs": [],
   "source": [
    "labels = data_train.target\n",
    "true_k = np.unique(labels).shape[0]\n",
    "\n",
    "vectorizer = TfidfVectorizer(max_df=0.5, min_df=2, stop_words='english', use_idf=True)\n",
    "X_train = vectorizer.fit_transform(data_train.data)\n"
   ]
  },
  {
   "cell_type": "code",
   "execution_count": 71,
   "id": "d0803b51",
   "metadata": {},
   "outputs": [
    {
     "name": "stdout",
     "output_type": "stream",
     "text": [
      "Extracting features from the test data using the same vectorizer\n"
     ]
    }
   ],
   "source": [
    "target_names = data_train.target_names\n",
    "\n",
    "y_train, y_test = data_train.target, data_test.target\n",
    "\n",
    "print(\"Extracting features from the test data using the same vectorizer\")\n",
    "X_test = vectorizer.transform(data_test.data)"
   ]
  },
  {
   "cell_type": "markdown",
   "id": "5691beca",
   "metadata": {},
   "source": [
    "### logistic regression"
   ]
  },
  {
   "cell_type": "code",
   "execution_count": 72,
   "id": "27f7d0e7",
   "metadata": {},
   "outputs": [
    {
     "name": "stdout",
     "output_type": "stream",
     "text": [
      "Train accuracy score: 97.78%\n",
      "Test accuracy score: 83.32%\n"
     ]
    }
   ],
   "source": [
    "lr_clf = LogisticRegression()\n",
    "lr_clf.fit(X_train.toarray(), y_train)\n",
    "\n",
    "lr_pred = lr_clf.predict(X_train.toarray())\n",
    "train_score = accuracy_score(y_train, lr_pred) * 100\n",
    "print(f\"Train accuracy score: {train_score:.2f}%\")\n",
    "\n",
    "lr_pred = lr_clf.predict(X_test.toarray())\n",
    "test_score = accuracy_score(y_test, lr_pred) * 100\n",
    "print(f\"Test accuracy score: {test_score:.2f}%\")"
   ]
  },
  {
   "cell_type": "markdown",
   "id": "6995a4d4",
   "metadata": {},
   "source": [
    "### naive bayes"
   ]
  },
  {
   "cell_type": "code",
   "execution_count": 73,
   "id": "fc1242fb",
   "metadata": {},
   "outputs": [
    {
     "name": "stdout",
     "output_type": "stream",
     "text": [
      "Train accuracy score: 99.73%\n",
      "Test accuracy score: 70.91%\n"
     ]
    }
   ],
   "source": [
    "nb_clf = GaussianNB()\n",
    "nb_clf.fit(X_train.toarray(), y_train)\n",
    "\n",
    "nb_pred = nb_clf.predict(X_train.toarray())\n",
    "train_score = accuracy_score(y_train, nb_pred) * 100\n",
    "print(f\"Train accuracy score: {train_score:.2f}%\")\n",
    "\n",
    "nb_pred = nb_clf.predict(X_test.toarray())\n",
    "test_score = accuracy_score(y_test, nb_pred) * 100\n",
    "print(f\"Test accuracy score: {test_score:.2f}%\")"
   ]
  },
  {
   "cell_type": "markdown",
   "id": "ae2b80dd",
   "metadata": {},
   "source": [
    "### Longformer"
   ]
  },
  {
   "cell_type": "code",
   "execution_count": null,
   "id": "717dc984",
   "metadata": {},
   "outputs": [],
   "source": [
    "tokenizer = LongformerTokenizerFast.from_pretrained('allenai/longformer-base-4096', max_length=2048)"
   ]
  },
  {
   "cell_type": "code",
   "execution_count": null,
   "id": "4f65e8ae",
   "metadata": {},
   "outputs": [],
   "source": [
    "train_encodings = tokenizer(data_train.data, truncation=True, padding=True, max_length=2048)\n",
    "valid_encodings = tokenizer(data_test.data, truncation=True, padding=True, max_length=2048)"
   ]
  },
  {
   "cell_type": "code",
   "execution_count": null,
   "id": "14174b15",
   "metadata": {},
   "outputs": [],
   "source": [
    "class NewsGroupsDataset(torch.utils.data.Dataset):\n",
    "    def __init__(self, encodings, labels):\n",
    "        self.encodings = encodings\n",
    "        self.labels = labels\n",
    "\n",
    "    def __getitem__(self, idx):\n",
    "        item = {k: torch.tensor(v[idx]) for k, v in self.encodings.items()}\n",
    "        item[\"labels\"] = torch.tensor([self.labels[idx]])\n",
    "        return item\n",
    "\n",
    "    def __len__(self):\n",
    "        return len(self.labels)\n",
    "    \n",
    "train_dataset = NewsGroupsDataset(train_encodings, data_train.target)\n",
    "valid_dataset = NewsGroupsDataset(valid_encodings, data_test.target)\n"
   ]
  },
  {
   "cell_type": "code",
   "execution_count": null,
   "id": "6e501c69",
   "metadata": {},
   "outputs": [],
   "source": [
    "device = torch.device(\"cuda\" if torch.cuda.is_available() else \"cpu\")\n",
    "\n",
    "model = LongformerForSequenceClassification.from_pretrained('allenai/longformer-base-4096', num_labels=20, gradient_checkpointing=False, attention_window = 512)\n"
   ]
  },
  {
   "cell_type": "code",
   "execution_count": null,
   "id": "2730ec44",
   "metadata": {},
   "outputs": [],
   "source": [
    "def compute_metrics(pred):\n",
    "    labels = pred.label_ids\n",
    "    preds = pred.predictions.argmax(-1)\n",
    "    acc = accuracy_score(labels, preds)\n",
    "    return {'accuracy': acc,}"
   ]
  },
  {
   "cell_type": "code",
   "execution_count": null,
   "id": "3ce272d9",
   "metadata": {},
   "outputs": [],
   "source": [
    "training_args = TrainingArguments(\n",
    "    output_dir = '../results/sentihood/NewsGroups/',\n",
    "    num_train_epochs =10,\n",
    "    per_device_train_batch_size = 4,\n",
    "    gradient_accumulation_steps = 8,    \n",
    "    per_device_eval_batch_size=4,\n",
    "    evaluation_strategy = \"steps\",\n",
    "    disable_tqdm = False, \n",
    "    load_best_model_at_end=True,\n",
    "    warmup_steps=200,\n",
    "    weight_decay=0.01,\n",
    "    logging_steps = 4,\n",
    "    fp16 = True,\n",
    "    logging_dir='../results/sentihood/NewsGroups/logs',\n",
    "    dataloader_num_workers = 0,\n",
    "    run_name = 'longformer-classification-updated-rtx3090_paper_replication_2_warm'\n",
    ")"
   ]
  },
  {
   "cell_type": "code",
   "execution_count": null,
   "id": "809f38ad",
   "metadata": {},
   "outputs": [],
   "source": [
    "trainer = Trainer(\n",
    "    model=model,                         \n",
    "    args=training_args,                  \n",
    "    train_dataset=train_dataset,         \n",
    "    eval_dataset=valid_dataset,          \n",
    "    compute_metrics=compute_metrics,     \n",
    ")"
   ]
  },
  {
   "cell_type": "code",
   "execution_count": null,
   "id": "6d6c0558",
   "metadata": {},
   "outputs": [],
   "source": [
    "trainer.train()"
   ]
  },
  {
   "cell_type": "code",
   "execution_count": null,
   "id": "c08fa3c2",
   "metadata": {
    "scrolled": true
   },
   "outputs": [],
   "source": [
    "trainer.evaluate()"
   ]
  },
  {
   "cell_type": "code",
   "execution_count": null,
   "id": "79e1538d",
   "metadata": {},
   "outputs": [],
   "source": [
    "model_path = \"model/20newsgroups-longformer\"\n",
    "model.save_pretrained(model_path)\n",
    "tokenizer.save_pretrained(model_path)"
   ]
  },
  {
   "cell_type": "code",
   "execution_count": null,
   "id": "f6bb34d5",
   "metadata": {},
   "outputs": [],
   "source": [
    "model = LongformerForSequenceClassification.from_pretrained('model/20newsgroups-longformer', num_labels=20, gradient_checkpointing=False, attention_window = 512)\n",
    "tokenizer = LongformerTokenizerFast.from_pretrained('model/20newsgroups-longformer', max_length=2048)\n",
    "device = torch.device(\"cuda\" if torch.cuda.is_available() else \"cpu\")\n",
    "model.to(device)\n"
   ]
  },
  {
   "cell_type": "markdown",
   "id": "57f97d5f",
   "metadata": {},
   "source": [
    "### Obtain prediction from fine-tuned longformer"
   ]
  },
  {
   "cell_type": "code",
   "execution_count": 21,
   "id": "d0782bc2",
   "metadata": {},
   "outputs": [],
   "source": [
    "train_data = pd.read_csv(\"../datasets/persent/dev_para_nocopy.csv\")"
   ]
  },
  {
   "cell_type": "code",
   "execution_count": 54,
   "id": "a82e36bf",
   "metadata": {},
   "outputs": [],
   "source": [
    "target_names = data_train.target_names\n",
    "\n",
    "def get_prediction(text):\n",
    "    inputs = tokenizer(text, padding=True, truncation=True, max_length=2048, return_tensors=\"pt\").to(device)\n",
    "    outputs = model(**inputs)\n",
    "    probs = outputs[0].softmax(1)\n",
    "    return target_names[probs.argmax()]\n",
    "\n",
    "def get_max_prob(text):\n",
    "    inputs = tokenizer(text, padding=True, truncation=True, max_length=2048, return_tensors=\"pt\").to(device)\n",
    "    outputs = model(**inputs)\n",
    "    probs = outputs[0].softmax(1)\n",
    "    return max(probs[0].tolist())"
   ]
  },
  {
   "cell_type": "code",
   "execution_count": 55,
   "id": "25cb76a3",
   "metadata": {},
   "outputs": [],
   "source": [
    "train_data['prob_max'] = train_data['DOCUMENT'].apply(get_max_prob)\n",
    "train_data['topic'] = train_data['DOCUMENT'].apply(get_prediction)\n"
   ]
  },
  {
   "cell_type": "markdown",
   "id": "fbd7c644",
   "metadata": {},
   "source": [
    "### Map label to 6 groups"
   ]
  },
  {
   "cell_type": "code",
   "execution_count": 56,
   "id": "ff086c85",
   "metadata": {},
   "outputs": [],
   "source": [
    "topic_groups = {'computer': ['comp.graphics', 'comp.os.ms-windows.misc', 'comp.sys.ibm.pc.hardware', 'comp.sys.mac.hardware', 'comp.windows.x'], 'recreation': ['rec.autos', 'rec.motorcycles', 'rec.sport.baseball', 'rec.sport.hockey'], 'science': ['sci.crypt', 'sci.electronics', 'sci.med', 'sci.space'], 'sale': ['misc.forsale'], 'politics': ['talk.politics.misc', 'talk.politics.guns', 'talk.politics.mideast'], 'religion': ['talk.religion.misc', 'alt.atheism', 'soc.religion.christian']}\n",
    "# train_data = pd.read_csv('../datasets/persent/random_test_longformer_topic.csv')\n",
    "\n",
    "topic_mapping = {}\n",
    "for key, val in topic_groups.items():\n",
    "    for sub in val:\n",
    "        topic_mapping[sub] = key\n",
    "        \n",
    "train_data['group'] = train_data['topic'].apply(lambda x: topic_mapping[x])\n",
    "\n",
    "def group_w_threshold(row):\n",
    "    if row['prob_max'] <0.5:\n",
    "        return 'general'\n",
    "    else:\n",
    "        return row['group']\n",
    "\n",
    "train_data['group'] = train_data.apply(group_w_threshold, axis=1)\n"
   ]
  },
  {
   "cell_type": "code",
   "execution_count": 61,
   "id": "25ca6337",
   "metadata": {},
   "outputs": [],
   "source": [
    "train_data.to_csv('../datasets/persent/random_test_longformer_topic_nocopy.csv', index=False)"
   ]
  },
  {
   "cell_type": "markdown",
   "id": "56b430c6",
   "metadata": {},
   "source": [
    "### Select entries from top 4 groups"
   ]
  },
  {
   "cell_type": "code",
   "execution_count": 24,
   "id": "52d0b32c",
   "metadata": {},
   "outputs": [
    {
     "name": "stderr",
     "output_type": "stream",
     "text": [
      "<ipython-input-24-799753b07265>:4: SettingWithCopyWarning: \n",
      "A value is trying to be set on a copy of a slice from a DataFrame\n",
      "\n",
      "See the caveats in the documentation: https://pandas.pydata.org/pandas-docs/stable/user_guide/indexing.html#returning-a-view-versus-a-copy\n",
      "  train_data.drop(['index'], axis=1, inplace=True)\n"
     ]
    }
   ],
   "source": [
    "train_data = train_data.loc[train_data['group'].isin(['politics', 'general', 'recreation', 'science'])]\n",
    "\n",
    "train_data.reset_index(inplace=True)\n",
    "train_data.drop(['index'], axis=1, inplace=True)"
   ]
  },
  {
   "cell_type": "code",
   "execution_count": 63,
   "id": "9c8ecdb4",
   "metadata": {},
   "outputs": [],
   "source": [
    "train_data1 = train_data[['DOCUMENT_INDEX', 'TITLE', 'TARGET_ENTITY', 'DOCUMENT', 'MASKED_DOCUMENT']]\n",
    "train_data1 = train_data1.loc[train_data1.index.repeat(4)]\n",
    "groups = ['politics', 'general', 'recreation', 'science'] * (train_data1.shape[0] // 4)\n",
    "train_data1['group'] = groups\n",
    "train_data1['prob_max'] = np.nan\n",
    "train_data1['sentiment'] = np.nan\n",
    "train_data1.reset_index(inplace=True)\n",
    "train_data1.drop(['index'], axis=1, inplace=True)\n",
    "\n",
    "for i in range(train_data.shape[0]):\n",
    "    temp_ind = train_data1.loc[(train_data1['DOCUMENT_INDEX']==train_data['DOCUMENT_INDEX'][i]) & (train_data1['group']==train_data['group'][i])].index[0]\n",
    "    train_data1.loc[temp_ind, 'sentiment'] = train_data['TRUE_SENTIMENT'][i]\n",
    "    train_data1.loc[temp_ind, 'prob_max'] = train_data['prob_max'][i]\n",
    "    \n",
    "train_data1['sentiment'].fillna('None', inplace=True)\n",
    "\n"
   ]
  },
  {
   "cell_type": "markdown",
   "id": "c6b28033",
   "metadata": {},
   "source": [
    "### Create copies (6 rows with another 6 groups and sentiment of None)"
   ]
  },
  {
   "cell_type": "code",
   "execution_count": 85,
   "id": "3d869f28",
   "metadata": {},
   "outputs": [],
   "source": [
    "train_data1 = train_data[['DOCUMENT_INDEX', 'TITLE', 'TARGET_ENTITY', 'DOCUMENT', 'MASKED_DOCUMENT']]\n",
    "train_data1 = train_data1.loc[train_data1.index.repeat(7)]\n",
    "groups = ['politics', 'recreation', 'computer', 'religion', 'science', 'sale', 'general'] * (train_data1.shape[0] // 7)\n",
    "train_data1['group'] = groups\n",
    "train_data1['prob_max'] = np.nan\n",
    "train_data1['sentiment'] = np.nan\n",
    "train_data1.reset_index(inplace=True)\n",
    "train_data1.drop(['index'], axis=1, inplace=True)\n",
    "\n",
    "for i in range(train_data.shape[0]):\n",
    "    temp_ind = train_data1.loc[(train_data1['DOCUMENT_INDEX']==train_data['DOCUMENT_INDEX'][i]) & (train_data1['group']==train_data['group'][i])].index[0]\n",
    "    train_data1.loc[temp_ind, 'sentiment'] = train_data['TRUE_SENTIMENT'][i]\n",
    "    train_data1.loc[temp_ind, 'prob_max'] = train_data['prob_max'][i]\n",
    "    \n",
    "train_data1['sentiment'].fillna('None', inplace=True)\n",
    "\n",
    "\n"
   ]
  },
  {
   "cell_type": "code",
   "execution_count": 65,
   "id": "ec202e53",
   "metadata": {},
   "outputs": [],
   "source": [
    "train_data1['context'] = '[TGT] - '+ train_data1['group']\n"
   ]
  },
  {
   "cell_type": "code",
   "execution_count": 67,
   "id": "1b96ed17",
   "metadata": {},
   "outputs": [],
   "source": [
    "train_data1.to_csv('../datasets/persent/random_test_longformer_4topics.csv', index=False)"
   ]
  },
  {
   "cell_type": "markdown",
   "id": "967cec29",
   "metadata": {},
   "source": [
    "## Partial Trial Run"
   ]
  },
  {
   "cell_type": "code",
   "execution_count": 2,
   "id": "f926661f",
   "metadata": {},
   "outputs": [
    {
     "name": "stdout",
     "output_type": "stream",
     "text": [
      "env: CUDA_VISIBLE_DEVICES=1,4,5,8 CUDA_LAUNCH_BLOCKING=1\n"
     ]
    }
   ],
   "source": [
    "%env CUDA_VISIBLE_DEVICES=1,4,5,8 CUDA_LAUNCH_BLOCKING=1"
   ]
  },
  {
   "cell_type": "code",
   "execution_count": 3,
   "id": "308e7a01",
   "metadata": {},
   "outputs": [],
   "source": [
    "processors = {\n",
    "    \"sentihood_NLI_M\":Sentihood_NLI_M_Processor,\n",
    "    \"semeval_NLI_M\":Semeval_NLI_M_Processor,\n",
    "    \"persent\":Persent_Processor\n",
    "}"
   ]
  },
  {
   "cell_type": "code",
   "execution_count": 4,
   "id": "1da9a2ef",
   "metadata": {},
   "outputs": [],
   "source": [
    "logging.basicConfig(format = '%(asctime)s - %(levelname)s - %(name)s -   %(message)s', \n",
    "                    datefmt = '%m/%d/%Y %H:%M:%S',\n",
    "                    level = logging.INFO)\n",
    "logger = logging.getLogger(__name__)\n",
    "\n",
    "def system_setups(args):\n",
    "    # system related setups\n",
    "    if args.local_rank == -1 or args.no_cuda:\n",
    "        device = torch.device(\"cuda\" if torch.cuda.is_available() and not args.no_cuda else \"cpu\")\n",
    "        n_gpu = torch.cuda.device_count()\n",
    "    else:\n",
    "        device = torch.device(\"cuda\", args.local_rank)\n",
    "        n_gpu = 1\n",
    "        # Initializes the distributed backend which will take care of sychronizing nodes/GPUs\n",
    "        torch.distributed.init_process_group(backend='nccl')\n",
    "    logger.info(\"device %s n_gpu %d distributed training %r\", device, n_gpu, bool(args.local_rank != -1))\n",
    "\n",
    "    if args.accumulate_gradients < 1:\n",
    "        raise ValueError(\"Invalid accumulate_gradients parameter: {}, should be >= 1\".format(\n",
    "                            args.accumulate_gradients))\n",
    "\n",
    "    args.train_batch_size = int(args.train_batch_size / args.accumulate_gradients)\n",
    "\n",
    "    random.seed(args.seed)\n",
    "    np.random.seed(args.seed)\n",
    "    torch.manual_seed(args.seed)\n",
    "    if n_gpu > 0:\n",
    "        torch.cuda.manual_seed_all(args.seed)\n",
    "\n",
    "    if args.bert_config_file is not None:\n",
    "        bert_config = BertConfig.from_json_file(args.bert_config_file)\n",
    "        if args.max_seq_length > bert_config.max_position_embeddings:\n",
    "            raise ValueError(\n",
    "                \"Cannot use sequence length {} because the BERT model was only trained up to sequence length {}\".format(\n",
    "                args.max_seq_length, bert_config.max_position_embeddings))\n",
    "\n",
    "    # not preloading\n",
    "    if os.path.exists(args.output_dir) and os.listdir(args.output_dir):\n",
    "        raise ValueError(\"Output directory ({}) already exists and is not empty.\".format(args.output_dir))\n",
    "    os.makedirs(args.output_dir, exist_ok=True)\n",
    "\n",
    "    output_log_file = os.path.join(args.output_dir, \"log.txt\")\n",
    "    print(\"output_log_file=\",output_log_file)\n",
    "\n",
    "    if args.task_name == \"sentihood_NLI_M\":\n",
    "        with open(output_log_file, \"w\") as writer:\n",
    "            writer.write(\"epoch\\tglobal_step\\tloss\\tt_loss\\tt_acc\\tstrict_acc\\tf1\\tauc\\ts_acc\\ts_auc\\n\")\n",
    "    elif args.task_name == \"semeval_NLI_M\":\n",
    "        with open(output_log_file, \"w\") as writer:\n",
    "            writer.write(\"epoch\\tglobal_step\\tloss\\tt_loss\\tt_acc\\taspect_P\\taspect_R\\taspect_F\\ts_acc_4\\ts_acc_3\\ts_acc_2\\n\")\n",
    "    else:\n",
    "        with open(output_log_file, \"w\") as writer:\n",
    "            writer.write(\"epoch\\tglobal_step\\tloss\\tt_loss\\tt_acc\\tstrict_acc\\tf1\\tauc\\ts_acc\\ts_auc\\n\")\n",
    "\n",
    "    return device, n_gpu, output_log_file"
   ]
  },
  {
   "cell_type": "code",
   "execution_count": 5,
   "id": "de1d7c5b",
   "metadata": {},
   "outputs": [],
   "source": [
    "args_init = ['--task_name', 'persent', \n",
    "             '--data_dir', '../datasets/persent/',\n",
    "             '--output_dir', '../results/persent/QACGLONG-reproduce/',\n",
    "             '--model_type', 'QACGLONG',\n",
    "             '--do_lower_case',\n",
    "             '--max_seq_length', '2048',\n",
    "             '--train_batch_size', '64',\n",
    "             '--eval_batch_size', '12',\n",
    "             '--learning_rate', '1e-4',\n",
    "             '--num_train_epochs', '10',\n",
    "             '--vocab_file', 'BERT-Google/vocab.txt',\n",
    "             '--bert_config_file', 'Longformer/config.json',\n",
    "             '--init_checkpoint', '../results/persent/4aspects_no_error_evaluation/lr_1e-4+allSamples/checkpoint_2940.bin', \n",
    "             '--seed', '123',\n",
    "             '--evaluate_interval', '80',\n",
    "             '--accumulate_gradients', '8',\n",
    "             '--gradient_accumulation_steps', '8']\n",
    "\n",
    "args = parser.parse_args(args_init)"
   ]
  },
  {
   "cell_type": "code",
   "execution_count": 6,
   "id": "b267139d",
   "metadata": {},
   "outputs": [
    {
     "name": "stderr",
     "output_type": "stream",
     "text": [
      "07/20/2022 21:30:28 - INFO - __main__ -   device cuda n_gpu 1 distributed training False\n"
     ]
    },
    {
     "name": "stdout",
     "output_type": "stream",
     "text": [
      "output_log_file= ../results/persent/QACGLONG-reproduce/log.txt\n"
     ]
    }
   ],
   "source": [
    "device, n_gpu, output_log_file= system_setups(args)"
   ]
  },
  {
   "cell_type": "code",
   "execution_count": 8,
   "id": "39d40144",
   "metadata": {},
   "outputs": [],
   "source": [
    "from transformers import LongformerTokenizer\n",
    "\n",
    "def getModelOptimizerTokenizer(model_type, vocab_file,\n",
    "                               bert_config_file=None, init_checkpoint=None,\n",
    "                               label_list=None,\n",
    "                               do_lower_case=True,\n",
    "                               num_train_steps=None,\n",
    "                               learning_rate=None,\n",
    "                               base_learning_rate=None,\n",
    "                               warmup_proportion=None,\n",
    "                               init_lrp=False):\n",
    "\n",
    "    # this is the model we develop\n",
    "    tokenizer = LongformerTokenizer.from_pretrained(\"allenai/longformer-base-4096\")\n",
    "#     tokenizer = FullTokenizer(\n",
    "#         vocab_file=vocab_file, do_lower_case=do_lower_case, pretrain=False)\n",
    "    if bert_config_file is not None:\n",
    "        bert_config = BertConfig.from_json_file(bert_config_file)\n",
    "    else:\n",
    "        # default?\n",
    "        print(\"else implemented\")\n",
    "        bert_config = BertConfig(\n",
    "            hidden_size=768,\n",
    "            num_hidden_layers=12,\n",
    "            num_attention_heads=12,\n",
    "            intermediate_size=3072,\n",
    "            hidden_act=\"gelu\",\n",
    "            hidden_dropout_prob=0.1,\n",
    "            attention_probs_dropout_prob=0.1,\n",
    "            max_position_embeddings=512,\n",
    "            type_vocab_size=2,\n",
    "            initializer_range=0.02\n",
    "        )\n",
    "    logger.info(\"*** Model Config ***\")\n",
    "    logger.info(bert_config.to_json_string())\n",
    "    # overwrite the vocab size to be exact. this also save space incase\n",
    "    # vocab size is shrinked.\n",
    "#     bert_config.vocab_size = len(tokenizer.vocab)\n",
    "    bert_config.vocab_size = tokenizer.vocab_size\n",
    "    # model and optimizer\n",
    "    logger.info(\"model = QACGLONG\")\n",
    "    model = QACGBertForSequenceClassification1(\n",
    "                    bert_config, len(label_list),\n",
    "                    init_weight=True,\n",
    "                    init_lrp=init_lrp)\n",
    "\n",
    "    if init_checkpoint is not None:\n",
    "        print(init_checkpoint)\n",
    "        logger.info(\"retraining with saved model.\")\n",
    "        # only load fields that are avaliable\n",
    "        model.bert.load_state_dict(torch.load(init_checkpoint, map_location='cpu'), strict=False)\n",
    "    no_decay = ['bias', 'gamma', 'beta']\n",
    "    block_list = []\n",
    "    \n",
    "    optimizer_parameters = [\n",
    "        {'params': [p for n, p in model.named_parameters() \n",
    "            if not any(nd in n for nd in no_decay) and not any(bl in n for bl in block_list)], 'weight_decay_rate': 0.01},\n",
    "        {'params': [p for n, p in model.named_parameters() \n",
    "            if any(nd in n for nd in no_decay) and not any(bl in n for bl in block_list)], 'weight_decay_rate': 0.0}\n",
    "        ]\n",
    "\n",
    "    optimizer = BERTAdam(optimizer_parameters,\n",
    "                        lr=learning_rate,\n",
    "                        warmup=warmup_proportion,\n",
    "                        t_total=num_train_steps)\n",
    "    return model, optimizer, tokenizer"
   ]
  },
  {
   "cell_type": "code",
   "execution_count": null,
   "id": "e3c613ae",
   "metadata": {},
   "outputs": [],
   "source": [
    "processor = processors[args.task_name]()\n",
    "label_list = processor.get_labels()\n",
    "\n",
    "# training setup\n",
    "train_examples = None\n",
    "num_train_steps = None\n",
    "train_examples = processor.get_train_examples(args.data_dir)\n",
    "num_train_steps = int(len(train_examples) / args.train_batch_size * args.num_train_epochs)\n",
    "\n",
    "# model and optimizer\n",
    "model1, optimizer, tokenizer = getModelOptimizerTokenizer(model_type=args.model_type,\n",
    "                                   vocab_file=args.vocab_file,\n",
    "                                   bert_config_file=args.bert_config_file,\n",
    "                                   init_checkpoint=args.init_checkpoint,\n",
    "                                   label_list=label_list,\n",
    "                                   do_lower_case=True,\n",
    "                                   num_train_steps=num_train_steps,\n",
    "                                   learning_rate=args.learning_rate,\n",
    "                                   base_learning_rate=args.base_learning_rate,\n",
    "                                   warmup_proportion=args.warmup_proportion)"
   ]
  },
  {
   "cell_type": "code",
   "execution_count": 10,
   "id": "d2ef644e",
   "metadata": {},
   "outputs": [],
   "source": [
    "# context_id_map_persent = {'[TGT] - politics': 0,\n",
    "#                           '[TGT] - recreation': 1,\n",
    "#                           '[TGT] - computer': 2,\n",
    "#                           '[TGT] - religion': 3,\n",
    "#                           '[TGT] - science': 4,\n",
    "#                           '[TGT] - sale': 5,\n",
    "#                           '[TGT] - general': 6}\n",
    "\n",
    "context_id_map_persent = {'[TGT] - politics': 0,\n",
    "                          '[TGT] - general': 1,\n",
    "                          '[TGT] - recreation': 2,\n",
    "                          '[TGT] - science': 3}\n",
    "\n",
    "def _truncate_seq_pair(tokens_a, tokens_b, max_length):\n",
    "    \"\"\"Truncates a sequence pair in place to the maximum length.\"\"\"\n",
    "\n",
    "    # This is a simple heuristic which will always truncate the longer sequence\n",
    "    # one token at a time. This makes more sense than truncating an equal percent\n",
    "    # of tokens from each, since if one sequence is very short then each token\n",
    "    # that's truncated likely contains more information than a longer sequence.\n",
    "    while True:\n",
    "        total_length = len(tokens_a) + len(tokens_b)\n",
    "        if total_length <= max_length:\n",
    "            break\n",
    "        if len(tokens_a) > len(tokens_b):\n",
    "            tokens_a.pop()\n",
    "        else:\n",
    "            tokens_b.pop()\n",
    "\n",
    "class InputFeatures(object):\n",
    "    \"\"\"A single set of features of data.\"\"\"\n",
    "\n",
    "    def __init__(self, input_ids, input_mask, segment_ids, label_id, seq_len,\n",
    "                 context_ids):\n",
    "        self.input_ids = input_ids\n",
    "        self.input_mask = input_mask\n",
    "        self.segment_ids = segment_ids\n",
    "        self.label_id = label_id\n",
    "        self.seq_len = seq_len\n",
    "        # extra fields to hold context\n",
    "        self.context_ids = context_ids\n",
    "\n",
    "def convert_examples_to_features(examples, label_list, max_seq_length,\n",
    "                                 tokenizer, max_context_length,\n",
    "                                 # if this is true, the context will not be\n",
    "                                 # appened into the inputs\n",
    "                                 context_standalone, args):\n",
    "    \"\"\"Loads a data file into a list of `InputBatch`s.\"\"\"\n",
    "\n",
    "    label_map = {}\n",
    "    for (i, label) in enumerate(label_list):\n",
    "        label_map[label] = i\n",
    "\n",
    "    features = []\n",
    "    for (ex_index, example) in enumerate(tqdm(examples)):\n",
    "        temp = example.text_a\n",
    "        tokens_a = tokenizer.tokenize(temp)\n",
    "\n",
    "        tokens_b = None\n",
    "        if example.text_b:\n",
    "            tokens_b = tokenizer.tokenize(example.text_b)\n",
    "        # tokens of context\n",
    "        tokens_context = None\n",
    "        if example.text_b:\n",
    "            tokens_context = tokenizer.tokenize(example.text_b)\n",
    "            \n",
    "        if args.task_name != 'persent':\n",
    "            text_a_new = temp * ((2045 - len(tokens_b)) // len(tokens_a))\n",
    "            tokens_a = tokenizer.tokenize(text_a_new)\n",
    "\n",
    "        if tokens_b and not context_standalone:\n",
    "            # Modifies `tokens_a` and `tokens_b` in place so that the total\n",
    "            # length is less than the specified length.\n",
    "            # Account for [CLS], [SEP], [SEP] with \"- 3\"\n",
    "            _truncate_seq_pair(tokens_a, tokens_b, max_seq_length - 3)\n",
    "        else:\n",
    "            # Account for [CLS] and [SEP] with \"- 2\"\n",
    "            if len(tokens_a) > max_seq_length - 2:\n",
    "                tokens_a = tokens_a[0:(max_seq_length - 2)]\n",
    "\n",
    "        # The convention in BERT is:\n",
    "        # (a) For sequence pairs:\n",
    "        #  tokens:   [CLS] is this jack ##son ##ville ? [SEP] no it is not . [SEP]\n",
    "        #  type_ids: 0   0  0    0    0     0       0 0    1  1  1  1   1 1\n",
    "        # (b) For single sequences:\n",
    "        #  tokens:   [CLS] the dog is hairy . [SEP]\n",
    "        #  type_ids: 0   0   0   0  0     0 0\n",
    "        #\n",
    "        # Where \"type_ids\" are used to indicate whether this is the first\n",
    "        # sequence or the second sequence. The embedding vectors for `type=0` and\n",
    "        # `type=1` were learned during pre-training and are added to the wordpiece\n",
    "        # embedding vector (and position vector). This is not *strictly* necessary\n",
    "        # since the [SEP] token unambigiously separates the sequences, but it makes\n",
    "        # it easier for the model to learn the concept of sequences.\n",
    "        #\n",
    "        # For classification tasks, the first vector (corresponding to [CLS]) is\n",
    "        # used as as the \"sentence vector\". Note that this only makes sense because\n",
    "        # the entire model is fine-tuned.\n",
    "        tokens = []\n",
    "        segment_ids = []\n",
    "        tokens.append(\"[CLS]\")\n",
    "        segment_ids.append(0)\n",
    "        for token in tokens_a:\n",
    "            tokens.append(token)\n",
    "            segment_ids.append(0)\n",
    "        tokens.append(\"[SEP]\")\n",
    "        segment_ids.append(0)\n",
    "\n",
    "        if tokens_b and not context_standalone:\n",
    "            for token in tokens_b:\n",
    "                tokens.append(token)\n",
    "                segment_ids.append(1)\n",
    "            tokens.append(\"[SEP]\")\n",
    "            segment_ids.append(1)\n",
    "\n",
    "        input_ids = tokenizer.convert_tokens_to_ids(tokens)\n",
    "\n",
    "        context_ids = []\n",
    "        if tokens_context:\n",
    "            # let us encode context into single int\n",
    "            if args.task_name == \"sentihood_NLI_M\":\n",
    "                context_ids = [context_id_map_sentihood[example.text_b]]\n",
    "            elif args.task_name == \"semeval_NLI_M\":\n",
    "                context_ids = [context_id_map_semeval[example.text_b]]\n",
    "            else:\n",
    "                context_ids = [context_id_map_persent[example.text_b]]\n",
    "\n",
    "        # The mask has 1 for real tokens and 0 for padding tokens. Only real\n",
    "        # tokens are attended to.\n",
    "        input_mask = [1] * len(input_ids)\n",
    "\n",
    "        # Zero-pad up to the sequence length.\n",
    "        seq_len = len(input_ids)\n",
    "        while len(input_ids) < max_seq_length:\n",
    "            input_ids.append(0)\n",
    "            input_mask.append(0)\n",
    "            segment_ids.append(0)\n",
    "\n",
    "        while len(context_ids) < max_context_length:\n",
    "            context_ids.append(0)\n",
    "            \n",
    "        assert len(input_ids) == max_seq_length\n",
    "        assert len(input_mask) == max_seq_length\n",
    "        assert len(segment_ids) == max_seq_length\n",
    "        assert len(context_ids) == max_context_length\n",
    "\n",
    "        label_id = label_map[example.label]\n",
    "\n",
    "        features.append(\n",
    "                InputFeatures(\n",
    "                        input_ids=input_ids,\n",
    "                        input_mask=input_mask,\n",
    "                        segment_ids=segment_ids,\n",
    "                        label_id=label_id,\n",
    "                        seq_len=seq_len,\n",
    "                        # newly added context part\n",
    "                        context_ids=context_ids))\n",
    "    \n",
    "    return features"
   ]
  },
  {
   "cell_type": "code",
   "execution_count": 12,
   "id": "3bcc52b8",
   "metadata": {},
   "outputs": [
    {
     "name": "stderr",
     "output_type": "stream",
     "text": [
      "100%|██████████| 23485/23485 [01:51<00:00, 210.94it/s]\n"
     ]
    }
   ],
   "source": [
    "# training set\n",
    "train_features = convert_examples_to_features(\n",
    "        train_examples, label_list, args.max_seq_length,\n",
    "        tokenizer, args.max_context_length,\n",
    "        args.context_standalone, args)"
   ]
  },
  {
   "cell_type": "code",
   "execution_count": 11,
   "id": "bd58fedb",
   "metadata": {},
   "outputs": [
    {
     "name": "stderr",
     "output_type": "stream",
     "text": [
      "100%|██████████| 4312/4312 [00:13<00:00, 327.27it/s]\n"
     ]
    }
   ],
   "source": [
    "# test set\n",
    "test_examples = processor.get_combo_examples(args.data_dir)\n",
    "test_features = convert_examples_to_features(\n",
    "        test_examples, label_list, args.max_seq_length,\n",
    "        tokenizer, args.max_context_length,\n",
    "        args.context_standalone, args)"
   ]
  },
  {
   "cell_type": "code",
   "execution_count": 12,
   "id": "969ee008",
   "metadata": {},
   "outputs": [],
   "source": [
    "input_ids = torch.tensor([f.input_ids for f in test_features], dtype=torch.long)\n",
    "input_mask = torch.tensor([f.input_mask for f in test_features], dtype=torch.long)\n",
    "segment_ids = torch.tensor([f.segment_ids for f in test_features], dtype=torch.long)\n",
    "label_ids = torch.tensor([f.label_id for f in test_features], dtype=torch.long)\n",
    "seq_len = torch.tensor([[f.seq_len] for f in test_features], dtype=torch.long)\n",
    "context_ids = torch.tensor([f.context_ids for f in test_features], dtype=torch.long)"
   ]
  },
  {
   "cell_type": "code",
   "execution_count": 13,
   "id": "d76c3b72",
   "metadata": {},
   "outputs": [],
   "source": [
    "test_data = TensorDataset(input_ids, input_mask, segment_ids,\n",
    "                                label_ids, seq_len, context_ids)\n",
    "test_dataloader = DataLoader(test_data, batch_size=args.eval_batch_size, shuffle=False)"
   ]
  },
  {
   "cell_type": "code",
   "execution_count": 13,
   "id": "fad7cfc3",
   "metadata": {},
   "outputs": [],
   "source": [
    "max_seq_lens = max(seq_len)[0]\n",
    "input_ids = input_ids[:,:max_seq_lens]\n",
    "input_mask = input_mask[:,:max_seq_lens]\n",
    "segment_ids = segment_ids[:,:max_seq_lens]\n",
    "\n",
    "\n",
    "input_ids = input_ids.to(device)\n",
    "input_mask = input_mask.to(device)\n",
    "segment_ids = segment_ids.to(device)\n",
    "label_ids = label_ids.to(device)\n",
    "seq_len = seq_len.to(device)\n",
    "context_ids = context_ids.to(device)"
   ]
  },
  {
   "cell_type": "code",
   "execution_count": null,
   "id": "09b9ce18",
   "metadata": {},
   "outputs": [],
   "source": [
    "model1.to(device)"
   ]
  },
  {
   "cell_type": "code",
   "execution_count": null,
   "id": "dd590c7d",
   "metadata": {},
   "outputs": [],
   "source": [
    "tmp_test_loss, logits, _, _, _, _ = model1(input_ids=input_ids, token_type_ids=segment_ids, attention_mask=input_mask, seq_lens=seq_len, device=device, labels=label_ids, context_ids=context_ids)\n"
   ]
  },
  {
   "cell_type": "code",
   "execution_count": null,
   "id": "2b37d764",
   "metadata": {},
   "outputs": [],
   "source": []
  }
 ],
 "metadata": {
  "kernelspec": {
   "display_name": "Python 3",
   "language": "python",
   "name": "python3"
  },
  "language_info": {
   "codemirror_mode": {
    "name": "ipython",
    "version": 3
   },
   "file_extension": ".py",
   "mimetype": "text/x-python",
   "name": "python",
   "nbconvert_exporter": "python",
   "pygments_lexer": "ipython3",
   "version": "3.8.5"
  }
 },
 "nbformat": 4,
 "nbformat_minor": 5
}
